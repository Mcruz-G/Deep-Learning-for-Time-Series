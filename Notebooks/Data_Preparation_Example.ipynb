{
 "cells": [
  {
   "cell_type": "markdown",
   "metadata": {},
   "source": [
    "## Data Preparation Example:\n",
    "\n",
    "### Consider that you are in the current situation:\n",
    "I have two columns in my data file with 5,000 rows, column 1 is time (with 1 hour\n",
    "interval) and column 2 is the number of sales and I am trying to forecast the number\n",
    "of sales for future time steps. Help me to set the number of samples, time steps and\n",
    "features in this data for an LSTM?"
   ]
  },
  {
   "cell_type": "markdown",
   "metadata": {},
   "source": [
    "There are few problems here:\n",
    "\n",
    "* Data Shape. LSTMs expect 3D input, and it can be challenging to get your head around this the first time.\n",
    "* Sequence Length. LSTMs don’t like sequences of more than 200-400 time steps, so the data will need to be split into subsamples.\n",
    "\n",
    "We will work through this example, broken down into the following 4 steps:\n",
    "1. Load the Data\n",
    "2. Drop the Time Column\n",
    "3. Split Into Samples\n",
    "4. Reshape Subsequences"
   ]
  },
  {
   "cell_type": "markdown",
   "metadata": {},
   "source": [
    "### 1. Load the Data"
   ]
  },
  {
   "cell_type": "markdown",
   "metadata": {},
   "source": [
    "For this example, we will mock loading by defining a new dataset in memory with 5,000\n",
    "time steps."
   ]
  },
  {
   "cell_type": "code",
   "execution_count": 3,
   "metadata": {},
   "outputs": [],
   "source": [
    "from numpy import array\n",
    "\n",
    "# define the dataset\n",
    "data = list()\n",
    "n = 5000\n",
    "\n",
    "for i in range(n):\n",
    "    data.append([i+1, (i+1)*10])\n",
    "data = array(data)"
   ]
  },
  {
   "cell_type": "markdown",
   "metadata": {},
   "source": [
    "Running this piece both prints the first 5 rows of data and the shape of the loaded data. We\n",
    "can see we have 5,000 rows and 2 columns: a standard univariate time series dataset."
   ]
  },
  {
   "cell_type": "code",
   "execution_count": 4,
   "metadata": {},
   "outputs": [
    {
     "name": "stdout",
     "output_type": "stream",
     "text": [
      "[[ 1 10]\n",
      " [ 2 20]\n",
      " [ 3 30]\n",
      " [ 4 40]\n",
      " [ 5 50]]\n"
     ]
    }
   ],
   "source": [
    "print(data[:5, :])"
   ]
  },
  {
   "cell_type": "code",
   "execution_count": 5,
   "metadata": {},
   "outputs": [
    {
     "name": "stdout",
     "output_type": "stream",
     "text": [
      "(5000, 2)\n"
     ]
    }
   ],
   "source": [
    "print(data.shape)"
   ]
  }
 ],
 "metadata": {
  "kernelspec": {
   "display_name": "Python 3",
   "language": "python",
   "name": "python3"
  },
  "language_info": {
   "codemirror_mode": {
    "name": "ipython",
    "version": 3
   },
   "file_extension": ".py",
   "mimetype": "text/x-python",
   "name": "python",
   "nbconvert_exporter": "python",
   "pygments_lexer": "ipython3",
   "version": "3.7.0"
  }
 },
 "nbformat": 4,
 "nbformat_minor": 2
}
