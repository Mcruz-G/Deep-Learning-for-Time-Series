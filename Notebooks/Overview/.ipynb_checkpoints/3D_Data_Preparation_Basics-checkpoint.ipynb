{
 "cells": [
  {
   "cell_type": "markdown",
   "metadata": {},
   "source": [
    "# 3D Data Preparation Basics"
   ]
  },
  {
   "cell_type": "markdown",
   "metadata": {},
   "source": [
    "Preparing time series data for CNNs and LSTMs requires one additional step beyond transforming\n",
    "the data into a supervised learning problem. The input layer for CNN and LSTM models is specified by the ```\n",
    "input_shape``` argument on the first hidden layer of the network. This too can make things confusing for beginners as intuitively we may expect the first layer defined in the model be the input layer, not the first hidden layer. For example, below is an example of a network with one hidden LSTM layer and one ```Dense``` output layer. \n",
    "```[samples, features]```."
   ]
  },
  {
   "cell_type": "markdown",
   "metadata": {},
   "source": [
    "![Img_3](Imgs/Img_3.png)"
   ]
  },
  {
   "cell_type": "markdown",
   "metadata": {},
   "source": [
    "In this example, the ```LSTM()``` layer must specify the shape of the input data. The input to\n",
    "every CNN and LSTM layer must be three-dimensional. The three dimensions of this input are:\n",
    "\n",
    "* Samples. One sequence is one sample. A batch is comprised of one or more samples.\n",
    "* Time Steps. One time step is one point of observation in the sample. One sample is\n",
    "comprised of multiple time steps.\n",
    "* Features. One feature is one observation at a time step. One time step is comprised of\n",
    "one or more features."
   ]
  },
  {
   "cell_type": "markdown",
   "metadata": {},
   "source": [
    "This expected three-dimensional structure of input data is often summarized using the array\n",
    "shape notation of: ```[samples, timesteps, features]```. Remember, that the two-dimensional\n",
    "shape of a dataset that we are familiar with from the previous section has the array shape of: ```[samples, features]```."
   ]
  },
  {
   "cell_type": "markdown",
   "metadata": {},
   "source": [
    "When defining the input layer of your LSTM network, the network assumes you have one\n",
    "or more samples and requires that you specify the number of time steps and the number of\n",
    "features. You can do this by specifying a tuple to the ```input_shape``` argument. For example, the\n",
    "model below defines an input layer that expects 1 or more samples, 3 time steps, and 1 feature"
   ]
  },
  {
   "cell_type": "markdown",
   "metadata": {},
   "source": [
    "![Img_3](Imgs/Img_4.png)"
   ]
  },
  {
   "cell_type": "markdown",
   "metadata": {},
   "source": [
    "Remember, the first layer in the network is actually the first hidden layer, so in this example 32\n",
    "refers to the number of units in the first hidden layer. The number of units in the first hidden\n",
    "layer is completely unrelated to the number of samples, time steps or features in your input\n",
    "data."
   ]
  },
  {
   "cell_type": "markdown",
   "metadata": {},
   "source": [
    "This example maps onto our univariate time series from the previous section that we split into\n",
    "having 3 input time steps and 1 feature. We may have loaded our time series dataset from CSV\n",
    "or transformed it to a supervised learning problem in memory. It will have a two-dimensional\n",
    "shape and we must convert it to a three-dimensional shape with some number of samples, 3\n",
    "time steps per sample and 1 feature per time step, or ```[?, 3, 1]```. We can do this by using the\n",
    "```reshape()``` ```NumPy``` function. For example, if we have 7 samples and 3 time steps per sample for\n",
    "the input element of our time series, we can reshape it into ```[7, 3, 1]``` by providing a tuple to\n",
    "the ```reshape()``` function specifying the desired new shape of ```(7, 3, 1)```. The array must have\n",
    "enough data to support the new shape, which in this case it does as ```[7, 3]``` and ```[7, 3, 1]``` are\n",
    "functionally the same thing."
   ]
  },
  {
   "cell_type": "code",
   "execution_count": 3,
   "metadata": {},
   "outputs": [],
   "source": [
    "from numpy import array\n",
    "\n",
    "def split_sequence(sequence, n_steps):\n",
    "    X, y = list(), list()\n",
    "    \n",
    "    for i in range(len(sequence)):\n",
    "        \n",
    "        # find the end of this pattern\n",
    "        end_ix = i + n_steps\n",
    "        \n",
    "        # check if we are beyond the sequence\n",
    "        if end_ix > len(sequence)-1:\n",
    "            break\n",
    "            \n",
    "        # gather input and output parts of the pattern\n",
    "        seq_x, seq_y = sequence[i:end_ix], sequence[end_ix]\n",
    "        X.append(seq_x)\n",
    "        y.append(seq_y)\n",
    "        \n",
    "    return array(X), array(y)"
   ]
  },
  {
   "cell_type": "code",
   "execution_count": 6,
   "metadata": {},
   "outputs": [
    {
     "name": "stdout",
     "output_type": "stream",
     "text": [
      "(10,)\n"
     ]
    }
   ],
   "source": [
    "# define univariate time series\n",
    "series = array([1, 2, 3, 4, 5, 6, 7, 8, 9, 10])\n",
    "print(series.shape)"
   ]
  },
  {
   "cell_type": "code",
   "execution_count": 5,
   "metadata": {},
   "outputs": [
    {
     "name": "stdout",
     "output_type": "stream",
     "text": [
      "(7, 3) (7,)\n"
     ]
    }
   ],
   "source": [
    "# transform to a supervised learning problem\n",
    "X, y = split_sequence(series, 3)\n",
    "print(X.shape, y.shape)"
   ]
  },
  {
   "cell_type": "code",
   "execution_count": 11,
   "metadata": {},
   "outputs": [
    {
     "name": "stdout",
     "output_type": "stream",
     "text": [
      "(7, 3, 1)\n"
     ]
    }
   ],
   "source": [
    "# transform input from [samples, features] to [samples, timesteps, features]\n",
    "X = X.reshape((X.shape[0], X.shape[1], 1))\n",
    "print(X.shape)"
   ]
  },
  {
   "cell_type": "markdown",
   "metadata": {},
   "source": [
    "A short-cut in reshaping the array is to use the known shapes, such as the number of samples\n",
    "and the number of times steps from the array returned from the call to the ```X.shape``` property of\n",
    "the array. For example, ```X.shape[0]``` refers to the number of rows in a 2D array, in this case the\n",
    "number of samples and ```X.shape[1]``` refers to the number of columns in a 2D array, in this case\n",
    "the number of feature that we will use as the number of time steps. The reshape can therefore\n",
    "be written as:"
   ]
  },
  {
   "cell_type": "code",
   "execution_count": 7,
   "metadata": {},
   "outputs": [
    {
     "name": "stdout",
     "output_type": "stream",
     "text": [
      "(7, 3, 1)\n"
     ]
    }
   ],
   "source": [
    "# transform input from [samples, features] to [samples, timesteps, features]\n",
    "X = X.reshape((X.shape[0], X.shape[1], 1))\n",
    "print(X.shape)"
   ]
  }
 ],
 "metadata": {
  "kernelspec": {
   "display_name": "Python 3",
   "language": "python",
   "name": "python3"
  },
  "language_info": {
   "codemirror_mode": {
    "name": "ipython",
    "version": 3
   },
   "file_extension": ".py",
   "mimetype": "text/x-python",
   "name": "python",
   "nbconvert_exporter": "python",
   "pygments_lexer": "ipython3",
   "version": "3.7.0"
  }
 },
 "nbformat": 4,
 "nbformat_minor": 2
}
