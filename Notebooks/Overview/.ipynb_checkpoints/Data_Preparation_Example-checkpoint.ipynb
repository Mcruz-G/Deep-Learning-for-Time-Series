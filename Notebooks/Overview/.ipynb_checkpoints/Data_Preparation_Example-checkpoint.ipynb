{
 "cells": [
  {
   "cell_type": "markdown",
   "metadata": {},
   "source": [
    "## Data Preparation Example:\n",
    "\n",
    "### Consider that you are in the current situation:\n",
    "I have two columns in my data file with 5,000 rows, column 1 is time (with 1 hour\n",
    "interval) and column 2 is the number of sales and I am trying to forecast the number\n",
    "of sales for future time steps. Help me to set the number of samples, time steps and\n",
    "features in this data for an LSTM?"
   ]
  },
  {
   "cell_type": "markdown",
   "metadata": {},
   "source": [
    "There are few problems here:\n",
    "\n",
    "* Data Shape. LSTMs expect 3D input, and it can be challenging to get your head around this the first time.\n",
    "* Sequence Length. LSTMs don’t like sequences of more than 200-400 time steps, so the data will need to be split into subsamples.\n",
    "\n",
    "We will work through this example, broken down into the following 4 steps:\n",
    "1. Load the Data\n",
    "2. Drop the Time Column\n",
    "3. Split Into Samples\n",
    "4. Reshape Subsequences"
   ]
  },
  {
   "cell_type": "markdown",
   "metadata": {},
   "source": [
    "### 1. Load the Data"
   ]
  },
  {
   "cell_type": "markdown",
   "metadata": {},
   "source": [
    "For this example, we will mock loading by defining a new dataset in memory with 5,000\n",
    "time steps."
   ]
  },
  {
   "cell_type": "code",
   "execution_count": 19,
   "metadata": {},
   "outputs": [],
   "source": [
    "from numpy import array\n",
    "\n",
    "# define the dataset\n",
    "data = list()\n",
    "n = 5000\n",
    "\n",
    "for i in range(n):\n",
    "    data.append([i+1, (i+1)*10])\n",
    "data = array(data)"
   ]
  },
  {
   "cell_type": "markdown",
   "metadata": {},
   "source": [
    "Running this piece both prints the first 5 rows of data and the shape of the loaded data. We\n",
    "can see we have 5,000 rows and 2 columns: a standard univariate time series dataset."
   ]
  },
  {
   "cell_type": "code",
   "execution_count": 20,
   "metadata": {},
   "outputs": [
    {
     "name": "stdout",
     "output_type": "stream",
     "text": [
      "[[ 1 10]\n",
      " [ 2 20]\n",
      " [ 3 30]\n",
      " [ 4 40]\n",
      " [ 5 50]]\n"
     ]
    }
   ],
   "source": [
    "print(data[:5, :])"
   ]
  },
  {
   "cell_type": "markdown",
   "metadata": {},
   "source": [
    "We still have the time column"
   ]
  },
  {
   "cell_type": "code",
   "execution_count": 21,
   "metadata": {},
   "outputs": [
    {
     "name": "stdout",
     "output_type": "stream",
     "text": [
      "(5000, 2)\n"
     ]
    }
   ],
   "source": [
    "print(data.shape)"
   ]
  },
  {
   "cell_type": "markdown",
   "metadata": {},
   "source": [
    "### 2. Drop the time column"
   ]
  },
  {
   "cell_type": "code",
   "execution_count": 22,
   "metadata": {
    "scrolled": true
   },
   "outputs": [
    {
     "data": {
      "text/plain": [
       "(5000,)"
      ]
     },
     "execution_count": 22,
     "metadata": {},
     "output_type": "execute_result"
    }
   ],
   "source": [
    "data = data[:,1]\n",
    "data.shape"
   ]
  },
  {
   "cell_type": "markdown",
   "metadata": {},
   "source": [
    "### 3. Split into samples"
   ]
  },
  {
   "cell_type": "markdown",
   "metadata": {},
   "source": [
    "LSTMs need to process samples where each sample is a single sequence of observations. In this\n",
    "case, 5,000 time steps is too long; LSTMs work better with 200-to-400 time steps. Therefore, we\n",
    "need to split the 5,000 time steps into multiple shorter sub-sequences. There are many ways to\n",
    "do this, and you may want to explore some depending on your problem. For example, perhaps\n",
    "you need overlapping sequences, perhaps non-overlapping is good but your model needs state\n",
    "across the sub-sequences and so on. In this example, we will split the 5,000 time steps into 25\n",
    "sub-sequences of 200 time steps each. Rather than using NumPy or Python tricks, we will do\n",
    "this the old fashioned way so you can see what is going on."
   ]
  },
  {
   "cell_type": "code",
   "execution_count": 25,
   "metadata": {},
   "outputs": [
    {
     "name": "stdout",
     "output_type": "stream",
     "text": [
      "25\n"
     ]
    }
   ],
   "source": [
    "# split into samples (e.g. 5000/200 = 25)\n",
    "samples = list()\n",
    "length = 200\n",
    "\n",
    "# step over the 5,000 in jumps of 200\n",
    "for i in range(0,n,length):\n",
    "    # grab from i to i + 200\n",
    "    sample = data[i:i+length]\n",
    "    samples.append(sample)\n",
    "    \n",
    "print(len(samples))"
   ]
  },
  {
   "cell_type": "code",
   "execution_count": 26,
   "metadata": {},
   "outputs": [
    {
     "name": "stdout",
     "output_type": "stream",
     "text": [
      "(25, 200)\n"
     ]
    }
   ],
   "source": [
    "# convert list of arrays into 2d array\n",
    "data = array(samples)\n",
    "print(data.shape)"
   ]
  },
  {
   "cell_type": "markdown",
   "metadata": {},
   "source": [
    "### 4. Reshape the sub-sequences"
   ]
  },
  {
   "cell_type": "markdown",
   "metadata": {},
   "source": [
    "The LSTM needs data with the format of ```[samples, timesteps, features]```. We have 25\n",
    "samples, 200 time steps per sample, and 1 feature. First, we need to convert our list of arrays\n",
    "into a 2D NumPy array with the shape ```[25, 200]```."
   ]
  },
  {
   "cell_type": "code",
   "execution_count": 27,
   "metadata": {},
   "outputs": [
    {
     "name": "stdout",
     "output_type": "stream",
     "text": [
      "(25, 200, 1)\n"
     ]
    }
   ],
   "source": [
    "# reshape into [samples, timesteps, features]\n",
    "data = data.reshape((len(samples), length, 1))\n",
    "print(data.shape)"
   ]
  },
  {
   "cell_type": "code",
   "execution_count": 28,
   "metadata": {
    "collapsed": true
   },
   "outputs": [
    {
     "data": {
      "text/plain": [
       "array([[[   10],\n",
       "        [   20],\n",
       "        [   30],\n",
       "        ...,\n",
       "        [ 1980],\n",
       "        [ 1990],\n",
       "        [ 2000]],\n",
       "\n",
       "       [[ 2010],\n",
       "        [ 2020],\n",
       "        [ 2030],\n",
       "        ...,\n",
       "        [ 3980],\n",
       "        [ 3990],\n",
       "        [ 4000]],\n",
       "\n",
       "       [[ 4010],\n",
       "        [ 4020],\n",
       "        [ 4030],\n",
       "        ...,\n",
       "        [ 5980],\n",
       "        [ 5990],\n",
       "        [ 6000]],\n",
       "\n",
       "       ...,\n",
       "\n",
       "       [[44010],\n",
       "        [44020],\n",
       "        [44030],\n",
       "        ...,\n",
       "        [45980],\n",
       "        [45990],\n",
       "        [46000]],\n",
       "\n",
       "       [[46010],\n",
       "        [46020],\n",
       "        [46030],\n",
       "        ...,\n",
       "        [47980],\n",
       "        [47990],\n",
       "        [48000]],\n",
       "\n",
       "       [[48010],\n",
       "        [48020],\n",
       "        [48030],\n",
       "        ...,\n",
       "        [49980],\n",
       "        [49990],\n",
       "        [50000]]])"
      ]
     },
     "execution_count": 28,
     "metadata": {},
     "output_type": "execute_result"
    }
   ],
   "source": [
    "data"
   ]
  },
  {
   "cell_type": "markdown",
   "metadata": {},
   "source": [
    "This section provides more resources on the topic if you are looking to go deeper.\n",
    "\n",
    "* numpy.reshape API.\n",
    "https://docs.scipy.org/doc/numpy/reference/generated/numpy.reshape.html\n",
    "\n",
    "* Keras Recurrent Layers API in Keras.\n",
    "https://keras.io/layers/recurrent/\n",
    "\n",
    "* Keras Convolutional Layers API in Keras.\n",
    "https://keras.io/layers/convolutional/"
   ]
  }
 ],
 "metadata": {
  "kernelspec": {
   "display_name": "Python 3",
   "language": "python",
   "name": "python3"
  },
  "language_info": {
   "codemirror_mode": {
    "name": "ipython",
    "version": 3
   },
   "file_extension": ".py",
   "mimetype": "text/x-python",
   "name": "python",
   "nbconvert_exporter": "python",
   "pygments_lexer": "ipython3",
   "version": "3.7.0"
  }
 },
 "nbformat": 4,
 "nbformat_minor": 2
}
